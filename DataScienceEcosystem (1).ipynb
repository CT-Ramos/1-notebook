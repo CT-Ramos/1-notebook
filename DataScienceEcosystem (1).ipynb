{
 "cells": [
  {
   "cell_type": "markdown",
   "id": "8d61add4-d2d8-426c-8283-7afbabb38c17",
   "metadata": {},
   "source": [
    "# Data Science Tools and Ecosystem"
   ]
  },
  {
   "cell_type": "markdown",
   "id": "3f804aff-6108-4f56-b19f-45355169b1db",
   "metadata": {},
   "source": [
    "In this notebook, Data Science Tools and Ecosystems are summarized."
   ]
  },
  {
   "cell_type": "markdown",
   "id": "acd079aa-efbc-490e-885e-d877d7eb2530",
   "metadata": {},
   "source": [
    "__Objectives__\n",
    "* List popular languages for Data Science\n",
    "* List popular libraries for Data Science\n",
    "* List of well known Data Science Tools\n",
    "* How to provide comments in the cell"
   ]
  },
  {
   "cell_type": "markdown",
   "id": "47124a9f-a345-4088-a4ea-b82221c4d373",
   "metadata": {},
   "source": [
    "Some of the popular languages that Data Scientists use are: \n",
    "\n",
    "1. Python\n",
    "2. R\n",
    "3. SQL"
   ]
  },
  {
   "cell_type": "markdown",
   "id": "6f21320a-10c3-42bb-992d-b33feba0fac1",
   "metadata": {},
   "source": [
    "Some of the commonly used libraries used by Data Scientists include: \n",
    "\n",
    "1. TensorFlow\n",
    "2. SciPy\n",
    "3. PyTorch"
   ]
  },
  {
   "cell_type": "markdown",
   "id": "000df757-2d53-4ff9-842b-a00e36d7b955",
   "metadata": {},
   "source": [
    "|Data Science Tools|\n",
    "|---|\n",
    "|SAS|\n",
    "|Apache Hadoop|\n",
    "|TensorFlow|"
   ]
  },
  {
   "cell_type": "markdown",
   "id": "bc2095d3-714f-4fef-a1eb-21934390fdfd",
   "metadata": {},
   "source": [
    "### Below are a few examples of evaluating arithmetic expressions in Python "
   ]
  },
  {
   "cell_type": "code",
   "execution_count": 7,
   "id": "2509a4c4-e842-4576-a93c-37c8bbd1370f",
   "metadata": {},
   "outputs": [
    {
     "data": {
      "text/plain": [
       "17"
      ]
     },
     "execution_count": 7,
     "metadata": {},
     "output_type": "execute_result"
    }
   ],
   "source": [
    "#This is a simple arithmetic expression to multiply then add integers\n",
    "(3*4)+5"
   ]
  },
  {
   "cell_type": "code",
   "execution_count": 6,
   "id": "6f853261-6ace-4f09-9069-00305b122660",
   "metadata": {},
   "outputs": [
    {
     "data": {
      "text/plain": [
       "3.3333333333333335"
      ]
     },
     "execution_count": 6,
     "metadata": {},
     "output_type": "execute_result"
    }
   ],
   "source": [
    "#This will convert 200 minutes to hours by dividing by 60\n",
    "200/60"
   ]
  },
  {
   "cell_type": "markdown",
   "id": "b642933b-ae19-4db0-80b7-4ba403f8d12b",
   "metadata": {},
   "source": [
    "## Author\n",
    "Carlo Trinh Ramos"
   ]
  }
 ],
 "metadata": {
  "kernelspec": {
   "display_name": "anaconda-panel-2023.05-py310",
   "language": "python",
   "name": "conda-env-anaconda-panel-2023.05-py310-py"
  },
  "language_info": {
   "codemirror_mode": {
    "name": "ipython",
    "version": 3
   },
   "file_extension": ".py",
   "mimetype": "text/x-python",
   "name": "python",
   "nbconvert_exporter": "python",
   "pygments_lexer": "ipython3",
   "version": "3.11.5"
  }
 },
 "nbformat": 4,
 "nbformat_minor": 5
}
